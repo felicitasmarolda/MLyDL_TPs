{
 "cells": [
  {
   "cell_type": "markdown",
   "id": "2b506ca7",
   "metadata": {},
   "source": [
    "# TP3 - Machine Learning\n",
    "El objetivo de este trabajo es desarrollar y evaluar modelos basados en redes neuronales,incorporando técnicas de ablación para entender el impacto de diversas modificaciones en el proceso de entrenamiento y en la capacidad de generalización del modelo. No se permite usar librerías de machine learning como scikit-learn o PyTorch, a menos que sea pedido explícitamente en el enunciado del ejercicio."
   ]
  },
  {
   "cell_type": "code",
   "execution_count": null,
   "id": "f42f8c7f",
   "metadata": {},
   "outputs": [],
   "source": []
  },
  {
   "cell_type": "code",
   "execution_count": 1,
   "id": "ff65448b",
   "metadata": {},
   "outputs": [],
   "source": [
    "import numpy as np\n",
    "import matplotlib.pyplot as plt\n",
    "import seaborn as sns\n",
    "import pandas as pd\n",
    "import importlib"
   ]
  },
  {
   "cell_type": "code",
   "execution_count": 2,
   "id": "f4a8ab0a",
   "metadata": {},
   "outputs": [],
   "source": [
    "import sys\n",
    "import os\n",
    "# sys.path.append('c:/Users/felic/OneDrive/Documentos/GitHub/MLyDL_TPs/Marolda_Felicitas_TP2/Problema1/src')\n",
    "sys.path.append(os.path.abspath('c:/Users/felic/OneDrive/Documentos/GitHub/MLyDL_TPs/Marolda_Felicitas_TP3/src'))"
   ]
  },
  {
   "cell_type": "code",
   "execution_count": 3,
   "id": "b51e4df0",
   "metadata": {},
   "outputs": [
    {
     "data": {
      "text/plain": [
       "<module 'metricas' from 'c:\\\\Users\\\\felic\\\\OneDrive\\\\Documentos\\\\GitHub\\\\MLyDL_TPs\\\\Marolda_Felicitas_TP3\\\\src\\\\metricas.py'>"
      ]
     },
     "execution_count": 3,
     "metadata": {},
     "output_type": "execute_result"
    }
   ],
   "source": [
    "import models as md\n",
    "importlib.reload(md)\n",
    "import data_splitting as ds\n",
    "importlib.reload(ds)\n",
    "import metricas as mt\n",
    "importlib.reload(mt)"
   ]
  },
  {
   "cell_type": "code",
   "execution_count": 4,
   "id": "9762d228",
   "metadata": {},
   "outputs": [],
   "source": [
    "# Cargar los archivos .npy\n",
    "X_COMP = np.load(r'c:/Users/felic/OneDrive/Documentos/GitHub/MLyDL_TPs/Marolda_Felicitas_TP3/data/X_COMP.npy')\n",
    "X_images = np.load(r'c:/Users/felic/OneDrive/Documentos/GitHub/MLyDL_TPs/Marolda_Felicitas_TP3/data/X_images.npy')\n",
    "y_images = np.load(r'c:/Users/felic/OneDrive/Documentos/GitHub/MLyDL_TPs/Marolda_Felicitas_TP3/data/y_images.npy')"
   ]
  },
  {
   "cell_type": "code",
   "execution_count": 5,
   "id": "5bc9496d",
   "metadata": {},
   "outputs": [
    {
     "data": {
      "image/png": "[encoded data removed]",
      "text/plain": [
       "<Figure size 1500x300 with 3 Axes>"
      ]
     },
     "metadata": {},
     "output_type": "display_data"
    }
   ],
   "source": [
    "# Choose random pictures from X_images\n",
    "num_images_to_display = 3\n",
    "random_indices = np.random.choice(len(X_images), num_images_to_display, replace=False)\n",
    "\n",
    "plt.figure(figsize=(15, 3))\n",
    "\n",
    "for i, idx in enumerate(random_indices):\n",
    "    plt.subplot(1, num_images_to_display, i + 1)\n",
    "    plt.imshow(X_images[idx].reshape(28, 28), cmap='gray')  # Assuming images are 28x28\n",
    "    plt.title(f\"Label: {y_images[idx]}\")\n",
    "    plt.axis('off')\n",
    "\n",
    "plt.tight_layout()\n",
    "plt.show()\n"
   ]
  },
  {
   "cell_type": "markdown",
   "id": "7f2a41ad",
   "metadata": {},
   "source": [
    "Dividir el conjunto de datos en tres subconjuntos: Train, Validation y Test"
   ]
  },
  {
   "cell_type": "code",
   "execution_count": 6,
   "id": "46f3ae0f",
   "metadata": {},
   "outputs": [
    {
     "name": "stdout",
     "output_type": "stream",
     "text": [
      "X_train shape: (3000, 784)\n",
      "X_val shape: (1000, 784)\n",
      "X_test shape: (1000, 784)\n"
     ]
    }
   ],
   "source": [
    "importlib.reload(ds)\n",
    "# Split the data into train and temp (temporary set for further splitting)\n",
    "X_normalized = ds.normalize(X_images)\n",
    "X_train, X_val, X_test, y_train, y_val, y_test = ds.split_data(X_normalized, y_images)\n",
    "\n",
    "print(f\"X_train shape: {X_train.shape}\")\n",
    "print(f\"X_val shape: {X_val.shape}\")\n",
    "print(f\"X_test shape: {X_test.shape}\")"
   ]
  },
  {
   "cell_type": "markdown",
   "id": "089ef63b",
   "metadata": {},
   "source": [
    "### Implementación y Entrenamiento de una Red Neuronal Básica\n",
    "- Implementar una red neuronal con L capas ocultas cada con M(l) nodos con función de activación ReLU (en las capas ocultas) y activación softmax para la capa de salida.\n",
    "- Implementar un algoritmo para entrenar dicha red, mediante backpropagation y gradiente descendiente estándar, utilizando como función de costo la cross-entropy.\n",
    "\n",
    "NOTA: El algoritmo backpropagation debe sera adaptado para el caso de clasificación multi-clase con función de activación softmax para la capa de salida y función de costo cross-entropy.\n",
    "\n",
    "- Entrenar una red neuronal con 2 capas ocultas, con 100 y 80 nodos respectivamente, y graficar la evolución de la función de costo (cross-entropy) sobre los conjuntos de entrenamiento y validación a lo largo de las épocas. Llamaremos a este modelo M0"
   ]
  },
  {
   "cell_type": "code",
   "execution_count": 7,
   "id": "480dcd4c",
   "metadata": {},
   "outputs": [
    {
     "name": "stdout",
     "output_type": "stream",
     "text": [
      "Epoch 0, Loss: 4.011714871685142\n",
      "loss val: 1.3366634623886713\n",
      "Epoch 10, Loss: 3.7937602782856454\n",
      "loss val: 1.276053419104105\n",
      "Epoch 20, Loss: 3.65606514605996\n",
      "loss val: 1.2408005499927657\n",
      "Epoch 30, Loss: 3.5026947126203054\n",
      "loss val: 1.2001908604674083\n",
      "Epoch 40, Loss: 3.321470454228951\n",
      "loss val: 1.1500316265811508\n",
      "Epoch 50, Loss: 3.1095221122135603\n",
      "loss val: 1.0895999709273638\n",
      "Epoch 60, Loss: 2.877384035765197\n",
      "loss val: 1.0225882261209878\n",
      "Epoch 70, Loss: 2.6476737046346015\n",
      "loss val: 0.9552127666528871\n",
      "Epoch 80, Loss: 2.441694184055507\n",
      "loss val: 0.8957845528884552\n",
      "Epoch 90, Loss: 2.2641578868503722\n",
      "loss val: 0.8463680406933611\n",
      "Epoch 100, Loss: 2.112114106092578\n",
      "loss val: 0.805369444905057\n",
      "Epoch 110, Loss: 1.982267100258831\n",
      "loss val: 0.7715093360589332\n",
      "Epoch 120, Loss: 1.870883846463221\n",
      "loss val: 0.7435527594693645\n",
      "Epoch 130, Loss: 1.7742170147032135\n",
      "loss val: 0.7202021219075473\n",
      "Epoch 140, Loss: 1.6893846871168519\n",
      "loss val: 0.7002441552330468\n",
      "Epoch 150, Loss: 1.6138036537550604\n",
      "loss val: 0.6831711875126706\n",
      "Epoch 160, Loss: 1.5456451364297978\n",
      "loss val: 0.6685382174472196\n",
      "Epoch 170, Loss: 1.4838076694359927\n",
      "loss val: 0.6559869135893927\n",
      "Epoch 180, Loss: 1.4275845023359273\n",
      "loss val: 0.6452872592507897\n",
      "Epoch 190, Loss: 1.3788628550046815\n",
      "loss val: 0.6372936711401899\n",
      "Epoch 200, Loss: 1.346905739252793\n",
      "loss val: 0.6349894577815998\n",
      "Epoch 210, Loss: 1.3064606020132943\n",
      "loss val: 0.6288812567801415\n",
      "Epoch 220, Loss: 1.2585510770580874\n",
      "loss val: 0.6198205632826844\n",
      "Epoch 230, Loss: 1.2159583137651568\n",
      "loss val: 0.612623504806249\n",
      "Epoch 240, Loss: 1.177315880681101\n",
      "loss val: 0.6067915843400234\n",
      "Epoch 250, Loss: 1.1421015795687914\n",
      "loss val: 0.6021425584272282\n",
      "Epoch 260, Loss: 1.1086688249247787\n",
      "loss val: 0.5980350033483449\n",
      "Epoch 270, Loss: 1.0760351689253318\n",
      "loss val: 0.5940848207979424\n",
      "Epoch 280, Loss: 1.0452415086499338\n",
      "loss val: 0.5907562050123523\n",
      "Epoch 290, Loss: 1.0149690508644178\n",
      "loss val: 0.5873350272605716\n",
      "Epoch 300, Loss: 0.9865570217312637\n",
      "loss val: 0.5845001273330962\n",
      "Epoch 310, Loss: 0.9596384620475641\n",
      "loss val: 0.5822176842593906\n",
      "Epoch 320, Loss: 0.9345165872247718\n",
      "loss val: 0.5805242004982578\n",
      "Epoch 330, Loss: 0.9100594324794209\n",
      "loss val: 0.5788744470379316\n",
      "Epoch 340, Loss: 0.8856033019747722\n",
      "loss val: 0.5770991599126806\n",
      "Epoch 350, Loss: 0.8616503796637865\n",
      "loss val: 0.5753102481270828\n",
      "Epoch 360, Loss: 0.8384929043203404\n",
      "loss val: 0.5736823755043781\n",
      "Epoch 370, Loss: 0.8175952282583079\n",
      "loss val: 0.5725941258357273\n",
      "Epoch 380, Loss: 0.7987743461264561\n",
      "loss val: 0.5719992357287873\n",
      "Epoch 390, Loss: 0.7792345724757415\n",
      "loss val: 0.5713195933530602\n",
      "Epoch 400, Loss: 0.7580703852500602\n",
      "loss val: 0.5703419717631788\n",
      "Epoch 410, Loss: 0.7374524324162224\n",
      "loss val: 0.5694100844631405\n",
      "Epoch 420, Loss: 0.7181070179700257\n",
      "loss val: 0.5690073791817505\n",
      "Epoch 430, Loss: 0.6996086068406415\n",
      "loss val: 0.5690658510581192\n",
      "Epoch 440, Loss: 0.6822250175134352\n",
      "loss val: 0.5696620153606922\n",
      "Epoch 450, Loss: 0.6672475505233953\n",
      "loss val: 0.5713366978103301\n",
      "Epoch 460, Loss: 0.6554085436401667\n",
      "loss val: 0.5744357745454824\n",
      "Epoch 470, Loss: 0.6455418620583219\n",
      "loss val: 0.5782244573921782\n",
      "Epoch 480, Loss: 0.6252599298233664\n",
      "loss val: 0.5768933421205097\n",
      "Epoch 490, Loss: 0.6041954051666972\n",
      "loss val: 0.5750469479086628\n",
      "Epoch 500, Loss: 0.5866610850042158\n",
      "loss val: 0.5746570924663496\n",
      "Epoch 510, Loss: 0.5710085872230198\n",
      "loss val: 0.5750752095333064\n",
      "Epoch 520, Loss: 0.5565945432995936\n",
      "loss val: 0.5759406508710451\n",
      "Epoch 530, Loss: 0.5436481075227413\n",
      "loss val: 0.5772852302131561\n",
      "Epoch 540, Loss: 0.5309864664679901\n",
      "loss val: 0.5784374811884356\n",
      "Epoch 550, Loss: 0.5182493525118165\n",
      "loss val: 0.5792273665627953\n",
      "Epoch 560, Loss: 0.5064086403628809\n",
      "loss val: 0.579944654787774\n",
      "Epoch 570, Loss: 0.49413054681299523\n",
      "loss val: 0.5805800647228914\n",
      "Epoch 580, Loss: 0.47921423302678384\n",
      "loss val: 0.5806357394349636\n",
      "Epoch 590, Loss: 0.46427993224683867\n",
      "loss val: 0.5809007784072777\n",
      "Epoch 600, Loss: 0.4508460337616072\n",
      "loss val: 0.5817541886875778\n",
      "Epoch 610, Loss: 0.4387848252146041\n",
      "loss val: 0.5831532170924287\n",
      "Epoch 620, Loss: 0.42745662105272375\n",
      "loss val: 0.5846381573858782\n",
      "Epoch 630, Loss: 0.41695104604939487\n",
      "loss val: 0.5866460465345613\n",
      "Epoch 640, Loss: 0.4067963352564794\n",
      "loss val: 0.5887291261599034\n",
      "Epoch 650, Loss: 0.3971220948877027\n",
      "loss val: 0.5911223849346052\n",
      "Epoch 660, Loss: 0.38737862958175456\n",
      "loss val: 0.5934743409772497\n",
      "Epoch 670, Loss: 0.37741275513632966\n",
      "loss val: 0.5956697140797667\n",
      "Epoch 680, Loss: 0.36750899358378303\n",
      "loss val: 0.5977270379444749\n",
      "Epoch 690, Loss: 0.3570744621032355\n",
      "loss val: 0.5990568492020633\n",
      "Epoch 700, Loss: 0.34610788804629705\n",
      "loss val: 0.5998797655634066\n",
      "Epoch 710, Loss: 0.33562724873722233\n",
      "loss val: 0.6007168557744423\n",
      "Epoch 720, Loss: 0.3262687455048807\n",
      "loss val: 0.6020016461155925\n",
      "Epoch 730, Loss: 0.3174237003262901\n",
      "loss val: 0.6036593533932351\n",
      "Epoch 740, Loss: 0.30897291617192996\n",
      "loss val: 0.6053503992198894\n",
      "Epoch 750, Loss: 0.3008592045764311\n",
      "loss val: 0.6070547152976399\n",
      "Epoch 760, Loss: 0.2929679333297594\n",
      "loss val: 0.6087957346069409\n",
      "Epoch 770, Loss: 0.28503141859246817\n",
      "loss val: 0.6103900617367686\n",
      "Epoch 780, Loss: 0.27758810741195206\n",
      "loss val: 0.6120160481784516\n",
      "Epoch 790, Loss: 0.2704501924633661\n",
      "loss val: 0.6138804754119995\n",
      "Epoch 800, Loss: 0.2634257125197214\n",
      "loss val: 0.6156505490263203\n",
      "Epoch 810, Loss: 0.2564356350217032\n",
      "loss val: 0.6174479749922256\n",
      "Epoch 820, Loss: 0.24962107985212154\n",
      "loss val: 0.619273313893707\n",
      "Epoch 830, Loss: 0.2430822631496482\n",
      "loss val: 0.6211874327244734\n",
      "Epoch 840, Loss: 0.23677322585244245\n",
      "loss val: 0.623186987186565\n",
      "Epoch 850, Loss: 0.2306674849331907\n",
      "loss val: 0.6252209032901246\n",
      "Epoch 860, Loss: 0.2247455924621617\n",
      "loss val: 0.6274148980488741\n",
      "Epoch 870, Loss: 0.21900594876972992\n",
      "loss val: 0.6294788775049095\n",
      "Epoch 880, Loss: 0.21336363873169004\n",
      "loss val: 0.6313808020936035\n",
      "Epoch 890, Loss: 0.20798935184755102\n",
      "loss val: 0.6334468820352804\n",
      "Epoch 900, Loss: 0.20282573359580783\n",
      "loss val: 0.6354670684584969\n",
      "Epoch 910, Loss: 0.1977254826391614\n",
      "loss val: 0.6373397068798681\n",
      "Epoch 920, Loss: 0.19280232934591932\n",
      "loss val: 0.6392830345132807\n",
      "Epoch 930, Loss: 0.1880646900265437\n",
      "loss val: 0.6414435704855934\n",
      "Epoch 940, Loss: 0.1834122898505227\n",
      "loss val: 0.6435883446964308\n",
      "Epoch 950, Loss: 0.17892437739992928\n",
      "loss val: 0.6455992807002863\n",
      "Epoch 960, Loss: 0.17454532090726035\n",
      "loss val: 0.6476703372930847\n",
      "Epoch 970, Loss: 0.17031710270496908\n",
      "loss val: 0.6497117960048867\n",
      "Epoch 980, Loss: 0.1662113587768804\n",
      "loss val: 0.6516352635878179\n",
      "Epoch 990, Loss: 0.16223024985384246\n",
      "loss val: 0.6535431036863357\n"
     ]
    },
    {
     "data": {
      "image/png": "[encoded data removed]",
      "text/plain": [
       "<Figure size 640x480 with 1 Axes>"
      ]
     },
     "metadata": {},
     "output_type": "display_data"
    }
   ],
   "source": [
    "importlib.reload(md)\n",
    "\n",
    "m0 = md.NeuralNetwork(X_train, y_train, X_val, y_val, [\"ReLU\", \"ReLU\", \"softmax\"], [100,80])\n"
   ]
  },
  {
   "cell_type": "code",
   "execution_count": 12,
   "id": "760d0da0",
   "metadata": {},
   "outputs": [
    {
     "name": "stdout",
     "output_type": "stream",
     "text": [
      "Accuracy: 0.5870\n",
      "Cross Entropy: 1.9668\n"
     ]
    },
    {
     "data": {
      "image/png": "[encoded data removed]",
      "text/plain": [
       "<Figure size 640x480 with 2 Axes>"
      ]
     },
     "metadata": {},
     "output_type": "display_data"
    }
   ],
   "source": [
    "importlib.reload(mt)\n",
    "y_pred_val = m0.forward_pass(X_val)\n",
    "get_metrics = mt.get_metrics(y_pred_val, y_val)"
   ]
  }
 ],
 "metadata": {
  "kernelspec": {
   "display_name": "base",
   "language": "python",
   "name": "python3"
  },
  "language_info": {
   "codemirror_mode": {
    "name": "ipython",
    "version": 3
   },
   "file_extension": ".py",
   "mimetype": "text/x-python",
   "name": "python",
   "nbconvert_exporter": "python",
   "pygments_lexer": "ipython3",
   "version": "3.12.4"
  }
 },
 "nbformat": 4,
 "nbformat_minor": 5
}
