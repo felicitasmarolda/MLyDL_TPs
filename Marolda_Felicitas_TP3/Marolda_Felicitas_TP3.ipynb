{
 "cells": [
  {
   "cell_type": "markdown",
   "id": "2b506ca7",
   "metadata": {},
   "source": [
    "# TP3 - Machine Learning\n",
    "El objetivo de este trabajo es desarrollar y evaluar modelos basados en redes neuronales,incorporando técnicas de ablación para entender el impacto de diversas modificaciones en el proceso de entrenamiento y en la capacidad de generalización del modelo. No se permite usar librerías de machine learning como scikit-learn o PyTorch, a menos que sea pedido explícitamente en el enunciado del ejercicio."
   ]
  },
  {
   "cell_type": "code",
   "execution_count": null,
   "id": "f42f8c7f",
   "metadata": {},
   "outputs": [],
   "source": []
  },
  {
   "cell_type": "code",
   "execution_count": 1,
   "id": "ff65448b",
   "metadata": {},
   "outputs": [],
   "source": [
    "import numpy as np\n",
    "import matplotlib.pyplot as plt\n",
    "import seaborn as sns\n",
    "import pandas as pd\n",
    "import importlib"
   ]
  },
  {
   "cell_type": "code",
   "execution_count": 2,
   "id": "f4a8ab0a",
   "metadata": {},
   "outputs": [],
   "source": [
    "import sys\n",
    "import os\n",
    "# sys.path.append('c:/Users/felic/OneDrive/Documentos/GitHub/MLyDL_TPs/Marolda_Felicitas_TP2/Problema1/src')\n",
    "sys.path.append(os.path.abspath('c:/Users/felic/OneDrive/Documentos/GitHub/MLyDL_TPs/Marolda_Felicitas_TP3/src'))"
   ]
  },
  {
   "cell_type": "code",
   "execution_count": 3,
   "id": "b51e4df0",
   "metadata": {},
   "outputs": [
    {
     "data": {
      "text/plain": [
       "<module 'data_splitting' from 'c:\\\\Users\\\\felic\\\\OneDrive\\\\Documentos\\\\GitHub\\\\MLyDL_TPs\\\\Marolda_Felicitas_TP3\\\\src\\\\data_splitting.py'>"
      ]
     },
     "execution_count": 3,
     "metadata": {},
     "output_type": "execute_result"
    }
   ],
   "source": [
    "import models as md\n",
    "importlib.reload(md)\n",
    "import data_splitting as ds\n",
    "importlib.reload(ds)"
   ]
  },
  {
   "cell_type": "code",
   "execution_count": 4,
   "id": "9762d228",
   "metadata": {},
   "outputs": [],
   "source": [
    "# Cargar los archivos .npy\n",
    "X_COMP = np.load(r'c:/Users/felic/OneDrive/Documentos/GitHub/MLyDL_TPs/Marolda_Felicitas_TP3/data/X_COMP.npy')\n",
    "X_images = np.load(r'c:/Users/felic/OneDrive/Documentos/GitHub/MLyDL_TPs/Marolda_Felicitas_TP3/data/X_images.npy')\n",
    "y_images = np.load(r'c:/Users/felic/OneDrive/Documentos/GitHub/MLyDL_TPs/Marolda_Felicitas_TP3/data/y_images.npy')"
   ]
  },
  {
   "cell_type": "code",
   "execution_count": 5,
   "id": "5bc9496d",
   "metadata": {},
   "outputs": [
    {
     "data": {
      "image/png": "[encoded data removed]",
      "text/plain": [
       "<Figure size 1500x300 with 3 Axes>"
      ]
     },
     "metadata": {},
     "output_type": "display_data"
    }
   ],
   "source": [
    "# Choose random pictures from X_images\n",
    "num_images_to_display = 3\n",
    "random_indices = np.random.choice(len(X_images), num_images_to_display, replace=False)\n",
    "\n",
    "plt.figure(figsize=(15, 3))\n",
    "\n",
    "for i, idx in enumerate(random_indices):\n",
    "    plt.subplot(1, num_images_to_display, i + 1)\n",
    "    plt.imshow(X_images[idx].reshape(28, 28), cmap='gray')  # Assuming images are 28x28\n",
    "    plt.title(f\"Label: {y_images[idx]}\")\n",
    "    plt.axis('off')\n",
    "\n",
    "plt.tight_layout()\n",
    "plt.show()\n"
   ]
  },
  {
   "cell_type": "markdown",
   "id": "7f2a41ad",
   "metadata": {},
   "source": [
    "Dividir el conjunto de datos en tres subconjuntos: Train, Validation y Test"
   ]
  },
  {
   "cell_type": "code",
   "execution_count": 6,
   "id": "46f3ae0f",
   "metadata": {},
   "outputs": [
    {
     "name": "stdout",
     "output_type": "stream",
     "text": [
      "X_train shape: (3000, 784)\n",
      "X_val shape: (1000, 784)\n",
      "X_test shape: (1000, 784)\n"
     ]
    }
   ],
   "source": [
    "importlib.reload(ds)\n",
    "# Split the data into train and temp (temporary set for further splitting)\n",
    "X_normalized = ds.normalize(X_images)\n",
    "X_train, X_val, X_test, y_train, y_val, y_test = ds.split_data(X_normalized, y_images)\n",
    "\n",
    "print(f\"X_train shape: {X_train.shape}\")\n",
    "print(f\"X_val shape: {X_val.shape}\")\n",
    "print(f\"X_test shape: {X_test.shape}\")"
   ]
  },
  {
   "cell_type": "markdown",
   "id": "089ef63b",
   "metadata": {},
   "source": [
    "### Implementación y Entrenamiento de una Red Neuronal Básica\n",
    "- Implementar una red neuronal con L capas ocultas cada con M(l) nodos con función de activación ReLU (en las capas ocultas) y activación softmax para la capa de salida.\n",
    "- Implementar un algoritmo para entrenar dicha red, mediante backpropagation y gradiente descendiente estándar, utilizando como función de costo la cross-entropy.\n",
    "\n",
    "NOTA: El algoritmo backpropagation debe sera adaptado para el caso de clasificación multi-clase con función de activación softmax para la capa de salida y función de costo cross-entropy.\n",
    "\n",
    "- Entrenar una red neuronal con 2 capas ocultas, con 100 y 80 nodos respectivamente, y graficar la evolución de la función de costo (cross-entropy) sobre los conjuntos de entrenamiento y validación a lo largo de las épocas. Llamaremos a este modelo M0"
   ]
  },
  {
   "cell_type": "code",
   "execution_count": 12,
   "id": "480dcd4c",
   "metadata": {},
   "outputs": [
    {
     "name": "stdout",
     "output_type": "stream",
     "text": [
      "Epoch 0, Loss: 3.9556067040960237\n",
      "Gradient (layer 0) mean: 0.0017691463510422563\n",
      "Epoch 10, Loss: 3.7475918974764983\n",
      "Gradient (layer 0) mean: 0.0007966619935136404\n",
      "Epoch 20, Loss: 3.5992954454087878\n",
      "Gradient (layer 0) mean: 0.0007906197534002272\n",
      "Epoch 30, Loss: 3.430179679141423\n",
      "Gradient (layer 0) mean: 0.0008126640845005547\n",
      "Epoch 40, Loss: 3.23690634770815\n",
      "Gradient (layer 0) mean: 0.0008314657727001976\n",
      "Epoch 50, Loss: 3.023722118780644\n",
      "Gradient (layer 0) mean: 0.0008402207639766076\n",
      "Epoch 60, Loss: 2.802962077706527\n",
      "Gradient (layer 0) mean: 0.0008326767931570078\n",
      "Epoch 70, Loss: 2.5943592354468574\n",
      "Gradient (layer 0) mean: 0.0008048718355302677\n",
      "Epoch 80, Loss: 2.4077477143300294\n",
      "Gradient (layer 0) mean: 0.0007659150790961252\n",
      "Epoch 90, Loss: 2.245675428274064\n",
      "Gradient (layer 0) mean: 0.0007151381247216637\n",
      "Epoch 100, Loss: 2.1068201236718997\n",
      "Gradient (layer 0) mean: 0.0006667900494070378\n",
      "Epoch 110, Loss: 1.988694244408006\n",
      "Gradient (layer 0) mean: 0.0006228475054813374\n",
      "Epoch 120, Loss: 1.886482136673962\n",
      "Gradient (layer 0) mean: 0.000583704713900186\n",
      "Epoch 130, Loss: 1.7976981899683515\n",
      "Gradient (layer 0) mean: 0.0005502821914177084\n",
      "Epoch 140, Loss: 1.7195138192567896\n",
      "Gradient (layer 0) mean: 0.0005213342602023715\n",
      "Epoch 150, Loss: 1.649500390630984\n",
      "Gradient (layer 0) mean: 0.0004974217452461959\n",
      "Epoch 160, Loss: 1.586017479642184\n",
      "Gradient (layer 0) mean: 0.00047785747801318637\n",
      "Epoch 170, Loss: 1.5279529262379499\n",
      "Gradient (layer 0) mean: 0.00046033291268337845\n",
      "Epoch 180, Loss: 1.4746896945138448\n",
      "Gradient (layer 0) mean: 0.00044786943395911326\n",
      "Epoch 190, Loss: 1.4260300580897256\n",
      "Gradient (layer 0) mean: 0.0004743514082511048\n",
      "Epoch 200, Loss: 1.3831146993663805\n",
      "Gradient (layer 0) mean: 0.000626420441955675\n",
      "Epoch 210, Loss: 1.3435637928146529\n",
      "Gradient (layer 0) mean: 0.0007942090498861026\n",
      "Epoch 220, Loss: 1.3037736646545814\n",
      "Gradient (layer 0) mean: 0.000821599961234917\n",
      "Epoch 230, Loss: 1.2662249455366281\n",
      "Gradient (layer 0) mean: 0.0008431423052933592\n",
      "Epoch 240, Loss: 1.2305622766198405\n",
      "Gradient (layer 0) mean: 0.0008684579471711841\n",
      "Epoch 250, Loss: 1.196377483247074\n",
      "Gradient (layer 0) mean: 0.0008767056311961393\n",
      "Epoch 260, Loss: 1.1636612084129907\n",
      "Gradient (layer 0) mean: 0.0008864183987658258\n",
      "Epoch 270, Loss: 1.1322879579821108\n",
      "Gradient (layer 0) mean: 0.000896396399796879\n",
      "Epoch 280, Loss: 1.1026309014436217\n",
      "Gradient (layer 0) mean: 0.0009211940092268583\n",
      "Epoch 290, Loss: 1.0732713703165828\n",
      "Gradient (layer 0) mean: 0.0009099859884516392\n",
      "Epoch 300, Loss: 1.0452990938762252\n",
      "Gradient (layer 0) mean: 0.0009110816221118746\n",
      "Epoch 310, Loss: 1.018681520546187\n",
      "Gradient (layer 0) mean: 0.0009188741983723532\n",
      "Epoch 320, Loss: 0.9930265110507328\n",
      "Gradient (layer 0) mean: 0.0009292194262268058\n",
      "Epoch 330, Loss: 0.9677679382843675\n",
      "Gradient (layer 0) mean: 0.0009176135615048121\n",
      "Epoch 340, Loss: 0.9444218790104835\n",
      "Gradient (layer 0) mean: 0.0009421162846759755\n",
      "Epoch 350, Loss: 0.9220070100090783\n",
      "Gradient (layer 0) mean: 0.0009739782409607475\n",
      "Epoch 360, Loss: 0.8999575082217357\n",
      "Gradient (layer 0) mean: 0.000994464254759056\n",
      "Epoch 370, Loss: 0.8774807507373626\n",
      "Gradient (layer 0) mean: 0.0009889695004595155\n",
      "Epoch 380, Loss: 0.855997681444834\n",
      "Gradient (layer 0) mean: 0.0009884433228566\n",
      "Epoch 390, Loss: 0.8354068522113364\n",
      "Gradient (layer 0) mean: 0.000998599212707253\n",
      "Epoch 400, Loss: 0.8155041882587916\n",
      "Gradient (layer 0) mean: 0.0010053012204041991\n",
      "Epoch 410, Loss: 0.7956797966512863\n",
      "Gradient (layer 0) mean: 0.0010101159313698083\n",
      "Epoch 420, Loss: 0.7757711022775117\n",
      "Gradient (layer 0) mean: 0.000990487969713894\n",
      "Epoch 430, Loss: 0.7558858337569043\n",
      "Gradient (layer 0) mean: 0.0009566668817937549\n",
      "Epoch 440, Loss: 0.7382217953140583\n",
      "Gradient (layer 0) mean: 0.0009748113069519796\n",
      "Epoch 450, Loss: 0.7199943089763885\n",
      "Gradient (layer 0) mean: 0.0009690615790465192\n",
      "Epoch 460, Loss: 0.7022867483800107\n",
      "Gradient (layer 0) mean: 0.0009575983492810072\n",
      "Epoch 470, Loss: 0.6855458977479886\n",
      "Gradient (layer 0) mean: 0.0009654801723304271\n",
      "Epoch 480, Loss: 0.6681188548019736\n",
      "Gradient (layer 0) mean: 0.000934139003017202\n",
      "Epoch 490, Loss: 0.6518785352728792\n",
      "Gradient (layer 0) mean: 0.000931946625481817\n",
      "Epoch 500, Loss: 0.6362415630889341\n",
      "Gradient (layer 0) mean: 0.0009396755811657328\n",
      "Epoch 510, Loss: 0.619584921053023\n",
      "Gradient (layer 0) mean: 0.0008935932499399031\n",
      "Epoch 520, Loss: 0.603893430512013\n",
      "Gradient (layer 0) mean: 0.0008744623691513754\n",
      "Epoch 530, Loss: 0.5889436164647651\n",
      "Gradient (layer 0) mean: 0.0008629148129945276\n",
      "Epoch 540, Loss: 0.5745887740153633\n",
      "Gradient (layer 0) mean: 0.0008637278858771348\n",
      "Epoch 550, Loss: 0.5605675371174276\n",
      "Gradient (layer 0) mean: 0.0008642323933476216\n",
      "Epoch 560, Loss: 0.5461196485452542\n",
      "Gradient (layer 0) mean: 0.0008357914225882602\n",
      "Epoch 570, Loss: 0.5317555155034067\n",
      "Gradient (layer 0) mean: 0.0008015489042936519\n",
      "Epoch 580, Loss: 0.5185423774198051\n",
      "Gradient (layer 0) mean: 0.0007950873290275028\n",
      "Epoch 590, Loss: 0.5055060080728306\n",
      "Gradient (layer 0) mean: 0.0007867728137342563\n",
      "Epoch 600, Loss: 0.4917424705131779\n",
      "Gradient (layer 0) mean: 0.0007412447965395943\n",
      "Epoch 610, Loss: 0.47893072681152854\n",
      "Gradient (layer 0) mean: 0.0007246198387968254\n",
      "Epoch 620, Loss: 0.46780151281110793\n",
      "Gradient (layer 0) mean: 0.0007510499666736684\n",
      "Epoch 630, Loss: 0.45677412175197385\n",
      "Gradient (layer 0) mean: 0.0007762280846367652\n",
      "Epoch 640, Loss: 0.4441430138123308\n",
      "Gradient (layer 0) mean: 0.0007303997810886751\n",
      "Epoch 650, Loss: 0.43092366601603255\n",
      "Gradient (layer 0) mean: 0.0006428511794311644\n",
      "Epoch 660, Loss: 0.41912708730472903\n",
      "Gradient (layer 0) mean: 0.0006018450189800942\n",
      "Epoch 670, Loss: 0.40876595465017346\n",
      "Gradient (layer 0) mean: 0.000617682565752313\n",
      "Epoch 680, Loss: 0.3990125706280212\n",
      "Gradient (layer 0) mean: 0.0006490861571957558\n",
      "Epoch 690, Loss: 0.3886451263180876\n",
      "Gradient (layer 0) mean: 0.0006359717844884297\n",
      "Epoch 700, Loss: 0.3774552199102409\n",
      "Gradient (layer 0) mean: 0.0005729598225427441\n",
      "Epoch 710, Loss: 0.3661065554287265\n",
      "Gradient (layer 0) mean: 0.0004749479179575643\n",
      "Epoch 720, Loss: 0.3559013977390677\n",
      "Gradient (layer 0) mean: 0.0004175046137513648\n",
      "Epoch 730, Loss: 0.34674676936962745\n",
      "Gradient (layer 0) mean: 0.0004179717972080257\n",
      "Epoch 740, Loss: 0.3385320587869976\n",
      "Gradient (layer 0) mean: 0.00046676133475954425\n",
      "Epoch 750, Loss: 0.3304054415329794\n",
      "Gradient (layer 0) mean: 0.000502719949017801\n",
      "Epoch 760, Loss: 0.3218974627312928\n",
      "Gradient (layer 0) mean: 0.0004985647185425671\n",
      "Epoch 770, Loss: 0.3136220324084665\n",
      "Gradient (layer 0) mean: 0.0004973636945999353\n",
      "Epoch 780, Loss: 0.30520216911976333\n",
      "Gradient (layer 0) mean: 0.0004722369848211233\n",
      "Epoch 790, Loss: 0.29678811347095296\n",
      "Gradient (layer 0) mean: 0.0004277824779428522\n",
      "Epoch 800, Loss: 0.2886932436515868\n",
      "Gradient (layer 0) mean: 0.00039121354664206615\n",
      "Epoch 810, Loss: 0.2806368027390547\n",
      "Gradient (layer 0) mean: 0.0003339615299784507\n",
      "Epoch 820, Loss: 0.27293994148638007\n",
      "Gradient (layer 0) mean: 0.0002795360905628918\n",
      "Epoch 830, Loss: 0.2658452805085845\n",
      "Gradient (layer 0) mean: 0.00026134130980545354\n",
      "Epoch 840, Loss: 0.2591258247367831\n",
      "Gradient (layer 0) mean: 0.00027018726024005\n",
      "Epoch 850, Loss: 0.2526947106313064\n",
      "Gradient (layer 0) mean: 0.000291914990947999\n",
      "Epoch 860, Loss: 0.24604656379032788\n",
      "Gradient (layer 0) mean: 0.0002638211047834661\n",
      "Epoch 870, Loss: 0.23961455653847633\n",
      "Gradient (layer 0) mean: 0.0002318301318221406\n",
      "Epoch 880, Loss: 0.2335572169027001\n",
      "Gradient (layer 0) mean: 0.00023650582827235283\n",
      "Epoch 890, Loss: 0.22763529304321928\n",
      "Gradient (layer 0) mean: 0.00023416875557890927\n",
      "Epoch 900, Loss: 0.22183683157925146\n",
      "Gradient (layer 0) mean: 0.0002263253169534822\n",
      "Epoch 910, Loss: 0.21616211303880725\n",
      "Gradient (layer 0) mean: 0.0002103198401701547\n",
      "Epoch 920, Loss: 0.21067559493606394\n",
      "Gradient (layer 0) mean: 0.00019883394022501244\n",
      "Epoch 930, Loss: 0.20536043929331887\n",
      "Gradient (layer 0) mean: 0.00018474162259445222\n",
      "Epoch 940, Loss: 0.2002918453145425\n",
      "Gradient (layer 0) mean: 0.0001933616584734562\n",
      "Epoch 950, Loss: 0.1952486876182774\n",
      "Gradient (layer 0) mean: 0.00017373108291848037\n",
      "Epoch 960, Loss: 0.1904491340721756\n",
      "Gradient (layer 0) mean: 0.0001759201628537019\n",
      "Epoch 970, Loss: 0.18573211012868138\n",
      "Gradient (layer 0) mean: 0.00016624979198482545\n",
      "Epoch 980, Loss: 0.1811843798089348\n",
      "Gradient (layer 0) mean: 0.0001642574174445075\n",
      "Epoch 990, Loss: 0.17678863231143874\n",
      "Gradient (layer 0) mean: 0.00016804993156960073\n"
     ]
    },
    {
     "data": {
      "image/png": "[encoded data removed]",
      "text/plain": [
       "<Figure size 640x480 with 1 Axes>"
      ]
     },
     "metadata": {},
     "output_type": "display_data"
    }
   ],
   "source": [
    "importlib.reload(md)\n",
    "\n",
    "nn = md.NeuralNetwork(X_train, y_train, X_val, y_val, [\"ReLU\", \"ReLU\", \"softmax\"], [100,80])\n"
   ]
  }
 ],
 "metadata": {
  "kernelspec": {
   "display_name": "base",
   "language": "python",
   "name": "python3"
  },
  "language_info": {
   "codemirror_mode": {
    "name": "ipython",
    "version": 3
   },
   "file_extension": ".py",
   "mimetype": "text/x-python",
   "name": "python",
   "nbconvert_exporter": "python",
   "pygments_lexer": "ipython3",
   "version": "3.12.4"
  }
 },
 "nbformat": 4,
 "nbformat_minor": 5
}
