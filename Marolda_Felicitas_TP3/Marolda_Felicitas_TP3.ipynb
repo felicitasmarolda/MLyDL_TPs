{
 "cells": [
  {
   "cell_type": "markdown",
   "id": "2b506ca7",
   "metadata": {},
   "source": [
    "# TP3 - Machine Learning\n",
    "El objetivo de este trabajo es desarrollar y evaluar modelos basados en redes neuronales,incorporando técnicas de ablación para entender el impacto de diversas modificaciones en el proceso de entrenamiento y en la capacidad de generalización del modelo. No se permite usar librerías de machine learning como scikit-learn o PyTorch, a menos que sea pedido explícitamente en el enunciado del ejercicio."
   ]
  },
  {
   "cell_type": "code",
   "execution_count": null,
   "id": "f42f8c7f",
   "metadata": {},
   "outputs": [],
   "source": []
  },
  {
   "cell_type": "code",
   "execution_count": 1,
   "id": "ff65448b",
   "metadata": {},
   "outputs": [],
   "source": [
    "import numpy as np\n",
    "import matplotlib.pyplot as plt\n",
    "import seaborn as sns\n",
    "import pandas as pd\n",
    "import importlib"
   ]
  },
  {
   "cell_type": "code",
   "execution_count": 2,
   "id": "f4a8ab0a",
   "metadata": {},
   "outputs": [],
   "source": [
    "import sys\n",
    "import os\n",
    "# sys.path.append('c:/Users/felic/OneDrive/Documentos/GitHub/MLyDL_TPs/Marolda_Felicitas_TP2/Problema1/src')\n",
    "sys.path.append(os.path.abspath('c:/Users/felic/OneDrive/Documentos/GitHub/MLyDL_TPs/Marolda_Felicitas_TP3/src'))"
   ]
  },
  {
   "cell_type": "code",
   "execution_count": 3,
   "id": "b51e4df0",
   "metadata": {},
   "outputs": [
    {
     "data": {
      "text/plain": [
       "<module 'preprocessing' from 'c:\\\\Users\\\\felic\\\\OneDrive\\\\Documentos\\\\GitHub\\\\MLyDL_TPs\\\\Marolda_Felicitas_TP3\\\\src\\\\preprocessing.py'>"
      ]
     },
     "execution_count": 3,
     "metadata": {},
     "output_type": "execute_result"
    }
   ],
   "source": [
    "import models as md\n",
    "importlib.reload(md)\n",
    "import preprocessing as pp\n",
    "importlib.reload(pp)"
   ]
  },
  {
   "cell_type": "code",
   "execution_count": 4,
   "id": "9762d228",
   "metadata": {},
   "outputs": [],
   "source": [
    "# Cargar los archivos .npy\n",
    "X_COMP = np.load(r'c:/Users/felic/OneDrive/Documentos/GitHub/MLyDL_TPs/Marolda_Felicitas_TP3/data/X_COMP.npy')\n",
    "X_images = np.load(r'c:/Users/felic/OneDrive/Documentos/GitHub/MLyDL_TPs/Marolda_Felicitas_TP3/data/X_images.npy')\n",
    "y_images = np.load(r'c:/Users/felic/OneDrive/Documentos/GitHub/MLyDL_TPs/Marolda_Felicitas_TP3/data/y_images.npy')"
   ]
  },
  {
   "cell_type": "code",
   "execution_count": 5,
   "id": "5bc9496d",
   "metadata": {},
   "outputs": [
    {
     "data": {
      "image/png": "[encoded data removed]",
      "text/plain": [
       "<Figure size 1500x300 with 3 Axes>"
      ]
     },
     "metadata": {},
     "output_type": "display_data"
    }
   ],
   "source": [
    "# Choose random pictures from X_images\n",
    "num_images_to_display = 3\n",
    "random_indices = np.random.choice(len(X_images), num_images_to_display, replace=False)\n",
    "\n",
    "plt.figure(figsize=(15, 3))\n",
    "\n",
    "for i, idx in enumerate(random_indices):\n",
    "    plt.subplot(1, num_images_to_display, i + 1)\n",
    "    plt.imshow(X_images[idx].reshape(28, 28), cmap='gray')  # Assuming images are 28x28\n",
    "    plt.title(f\"Label: {y_images[idx]}\")\n",
    "    plt.axis('off')\n",
    "\n",
    "plt.tight_layout()\n",
    "plt.show()\n"
   ]
  },
  {
   "cell_type": "markdown",
   "id": "7f2a41ad",
   "metadata": {},
   "source": [
    "Dividir el conjunto de datos en tres subconjuntos: Train, Validation y Test"
   ]
  },
  {
   "cell_type": "code",
   "execution_count": 26,
   "id": "46f3ae0f",
   "metadata": {},
   "outputs": [
    {
     "name": "stdout",
     "output_type": "stream",
     "text": [
      "X_train shape: (3000, 784)\n",
      "X_val shape: (1000, 784)\n",
      "X_test shape: (1000, 784)\n"
     ]
    }
   ],
   "source": [
    "importlib.reload(pp)\n",
    "# Split the data into train and temp (temporary set for further splitting)\n",
    "X_normalized = pp.normalize(X_images)\n",
    "X_train, X_val, X_test, y_train, y_val, y_test = pp.split_data(X_images, y_images)\n",
    "\n",
    "print(f\"X_train shape: {X_train.shape}\")\n",
    "print(f\"X_val shape: {X_val.shape}\")\n",
    "print(f\"X_test shape: {X_test.shape}\")"
   ]
  },
  {
   "cell_type": "markdown",
   "id": "089ef63b",
   "metadata": {},
   "source": [
    "### Implementación y Entrenamiento de una Red Neuronal Básica\n",
    "- Implementar una red neuronal con L capas ocultas cada con M(l) nodos con función de activación ReLU (en las capas ocultas) y activación softmax para la capa de salida.\n",
    "- Implementar un algoritmo para entrenar dicha red, mediante backpropagation y gradiente descendiente estándar, utilizando como función de costo la cross-entropy.\n",
    "\n",
    "NOTA: El algoritmo backpropagation debe sera adaptado para el caso de clasificación multi-clase con función de activación softmax para la capa de salida y función de costo cross-entropy.\n",
    "\n",
    "- Entrenar una red neuronal con 2 capas ocultas, con 100 y 80 nodos respectivamente, y graficar la evolución de la función de costo (cross-entropy) sobre los conjuntos de entrenamiento y validación a lo largo de las épocas. Llamaremos a este modelo M0"
   ]
  },
  {
   "cell_type": "code",
   "execution_count": 27,
   "id": "480dcd4c",
   "metadata": {},
   "outputs": [
    {
     "name": "stdout",
     "output_type": "stream",
     "text": [
      "Epoch 0, Loss: 18.055497419807185\n",
      "Epoch 100, Loss: 17.960838195545215\n",
      "Epoch 200, Loss: 17.866911319006576\n",
      "Epoch 300, Loss: 17.82045426262268\n",
      "Epoch 400, Loss: 17.75697951852286\n",
      "Epoch 500, Loss: 17.690157168011726\n",
      "Epoch 600, Loss: 17.596166932640998\n",
      "Epoch 700, Loss: 17.50009137084993\n",
      "Epoch 800, Loss: 17.40402126708832\n",
      "Epoch 900, Loss: 17.314389461723504\n"
     ]
    }
   ],
   "source": [
    "importlib.reload(md)\n",
    "\n",
    "nn = md.NeuralNetwork(X_train, y_train, 2,[\"ReLU\", \"ReLU\", \"softmax\"], [100,80])\n"
   ]
  }
 ],
 "metadata": {
  "kernelspec": {
   "display_name": "base",
   "language": "python",
   "name": "python3"
  },
  "language_info": {
   "codemirror_mode": {
    "name": "ipython",
    "version": 3
   },
   "file_extension": ".py",
   "mimetype": "text/x-python",
   "name": "python",
   "nbconvert_exporter": "python",
   "pygments_lexer": "ipython3",
   "version": "3.12.4"
  }
 },
 "nbformat": 4,
 "nbformat_minor": 5
}
