{
 "cells": [
  {
   "cell_type": "markdown",
   "id": "9f23a0f4",
   "metadata": {},
   "source": [
    "# Trabajo Práctico 4 - Machine Learning\n",
    "*Felicitas marolda*"
   ]
  },
  {
   "cell_type": "markdown",
   "id": "0c0778e4",
   "metadata": {},
   "source": [
    "## Parte 1: Clustering de datos\n",
    "Para el dataset clustering.csv realizar los siguientes análisis:\n",
    "\n",
    "a) Implementar el algoritmo K-means y determinar la cantidad de clusters con el método de\n",
    "“ganancias decrecientes” (graficar L vs. K, y elegir un valor K donde al aumentar K deje\n",
    "de reducir significativamente L, donde L es la suma de las distancias). Graficar el conjunto\n",
    "de datos xi mostrando a qué cluster pertenece cada dato (usando colores/marcadores\n",
    "distintos para cada cluster) y también mostrar el centroide de cada cluster.\n",
    "\n",
    "b) Implementar el algoritmo Gaussian Mixture Model (GMM) y realizar la misma tarea que\n",
    "en el inciso anterior. Recuerde que puede inicializar la optimización de GMM con una\n",
    "corrida de K-means.\n",
    "\n",
    "\n",
    "c) Implementar el algoritmo DBSCAN y aplicarlo al conjunto de datos. Explorar el efecto\n",
    "de variar los parámetros ϵ (radio de la vecindad) y K (mínimo número de puntos en\n",
    "una zona densa). Luego, elegir una combinación razonable de ϵ y K y graficar los datos\n",
    "mostrando a qué cluster pertenece cada uno, utilizando colores/marcadores distintos para\n",
    "cada cluster/ruido."
   ]
  },
  {
   "cell_type": "code",
   "execution_count": null,
   "id": "2c66de75",
   "metadata": {
    "vscode": {
     "languageId": "plaintext"
    }
   },
   "outputs": [],
   "source": []
  }
 ],
 "metadata": {
  "language_info": {
   "name": "python"
  }
 },
 "nbformat": 4,
 "nbformat_minor": 5
}
